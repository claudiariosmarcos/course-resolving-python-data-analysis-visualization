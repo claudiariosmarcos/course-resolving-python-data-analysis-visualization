{
 "cells": [
  {
   "attachments": {},
   "cell_type": "markdown",
   "id": "023e62ce",
   "metadata": {},
   "source": [
    "# Filtering the DataFrame with Boolean Arrays (Masks)\n",
    "\n",
    "- Search in [this Cheat Sheet](https://datons.craft.me/h3f5pSQSE7l6RW/b/F80131CD-4914-414F-8B93-C03B5D1AFCD5/DataFrame) to work better with the following exercises."
   ]
  },
  {
   "cell_type": "markdown",
   "id": "8d467787-3573-434d-8c63-bab5d035882e",
   "metadata": {},
   "source": [
    "## Load the data"
   ]
  },
  {
   "cell_type": "code",
   "execution_count": 1,
   "id": "71b1a87c-deb5-49cf-9ce6-cdcd24977293",
   "metadata": {},
   "outputs": [
    {
     "data": {
      "text/html": [
       "<div>\n",
       "<style scoped>\n",
       "    .dataframe tbody tr th:only-of-type {\n",
       "        vertical-align: middle;\n",
       "    }\n",
       "\n",
       "    .dataframe tbody tr th {\n",
       "        vertical-align: top;\n",
       "    }\n",
       "\n",
       "    .dataframe thead th {\n",
       "        text-align: right;\n",
       "    }\n",
       "</style>\n",
       "<table border=\"1\" class=\"dataframe\">\n",
       "  <thead>\n",
       "    <tr style=\"text-align: right;\">\n",
       "      <th></th>\n",
       "      <th>continent</th>\n",
       "      <th>year</th>\n",
       "      <th>lifeExp</th>\n",
       "      <th>pop</th>\n",
       "      <th>gdpPercap</th>\n",
       "      <th>iso_alpha</th>\n",
       "      <th>iso_num</th>\n",
       "    </tr>\n",
       "    <tr>\n",
       "      <th>country</th>\n",
       "      <th></th>\n",
       "      <th></th>\n",
       "      <th></th>\n",
       "      <th></th>\n",
       "      <th></th>\n",
       "      <th></th>\n",
       "      <th></th>\n",
       "    </tr>\n",
       "  </thead>\n",
       "  <tbody>\n",
       "    <tr>\n",
       "      <th>Afghanistan</th>\n",
       "      <td>Asia</td>\n",
       "      <td>2007</td>\n",
       "      <td>43.828</td>\n",
       "      <td>31889923</td>\n",
       "      <td>974.580338</td>\n",
       "      <td>AFG</td>\n",
       "      <td>4</td>\n",
       "    </tr>\n",
       "    <tr>\n",
       "      <th>Albania</th>\n",
       "      <td>Europe</td>\n",
       "      <td>2007</td>\n",
       "      <td>76.423</td>\n",
       "      <td>3600523</td>\n",
       "      <td>5937.029526</td>\n",
       "      <td>ALB</td>\n",
       "      <td>8</td>\n",
       "    </tr>\n",
       "    <tr>\n",
       "      <th>...</th>\n",
       "      <td>...</td>\n",
       "      <td>...</td>\n",
       "      <td>...</td>\n",
       "      <td>...</td>\n",
       "      <td>...</td>\n",
       "      <td>...</td>\n",
       "      <td>...</td>\n",
       "    </tr>\n",
       "    <tr>\n",
       "      <th>Zambia</th>\n",
       "      <td>Africa</td>\n",
       "      <td>2007</td>\n",
       "      <td>42.384</td>\n",
       "      <td>11746035</td>\n",
       "      <td>1271.211593</td>\n",
       "      <td>ZMB</td>\n",
       "      <td>894</td>\n",
       "    </tr>\n",
       "    <tr>\n",
       "      <th>Zimbabwe</th>\n",
       "      <td>Africa</td>\n",
       "      <td>2007</td>\n",
       "      <td>43.487</td>\n",
       "      <td>12311143</td>\n",
       "      <td>469.709298</td>\n",
       "      <td>ZWE</td>\n",
       "      <td>716</td>\n",
       "    </tr>\n",
       "  </tbody>\n",
       "</table>\n",
       "<p>142 rows × 7 columns</p>\n",
       "</div>"
      ],
      "text/plain": [
       "            continent  year  lifeExp       pop    gdpPercap iso_alpha  iso_num\n",
       "country                                                                       \n",
       "Afghanistan      Asia  2007   43.828  31889923   974.580338       AFG        4\n",
       "Albania        Europe  2007   76.423   3600523  5937.029526       ALB        8\n",
       "...               ...   ...      ...       ...          ...       ...      ...\n",
       "Zambia         Africa  2007   42.384  11746035  1271.211593       ZMB      894\n",
       "Zimbabwe       Africa  2007   43.487  12311143   469.709298       ZWE      716\n",
       "\n",
       "[142 rows x 7 columns]"
      ]
     },
     "execution_count": 1,
     "metadata": {},
     "output_type": "execute_result"
    }
   ],
   "source": [
    "import plotly.express as px #!\n",
    "\n",
    "df_countries = px.data.gapminder()\n",
    "df_countries = df_countries.query('year == 2007')\n",
    "df_countries = df_countries.set_index('country')\n",
    "df_countries"
   ]
  },
  {
   "cell_type": "markdown",
   "id": "d09a6dff-66f3-486c-b068-1437ae4a4bc0",
   "metadata": {},
   "source": [
    "## Select only Asian countries in the DataFrame"
   ]
  },
  {
   "cell_type": "markdown",
   "id": "5c5d9c74-5ab1-4161-b41d-225ea75f0a75",
   "metadata": {},
   "source": [
    "### Create the mask of Trues and Falses based on the condition"
   ]
  },
  {
   "cell_type": "code",
   "execution_count": null,
   "id": "1abd11aa-46b6-4a69-a780-597ec63dfa29",
   "metadata": {},
   "outputs": [],
   "source": []
  },
  {
   "cell_type": "markdown",
   "id": "c6cb5e69-eb96-4a8a-8d25-3d473b7f06eb",
   "metadata": {},
   "source": [
    "### Filter the DataFrame with the `mask` of Trues"
   ]
  },
  {
   "cell_type": "code",
   "execution_count": null,
   "id": "3be71b49-c6cf-4213-8bf7-03da6ff3310e",
   "metadata": {},
   "outputs": [],
   "source": []
  },
  {
   "cell_type": "markdown",
   "id": "cc41b25c-c927-4ca6-89e5-2cb1bf6f6cb6",
   "metadata": {},
   "source": [
    "## Which countries has a Life Expentancy greater than 80 years old?"
   ]
  },
  {
   "cell_type": "markdown",
   "id": "a8515fb6-fc1e-4e70-9488-50b4d63845be",
   "metadata": {},
   "source": [
    "### Create the mask of Trues and Falses based on the condition"
   ]
  },
  {
   "cell_type": "code",
   "execution_count": null,
   "id": "db130b19-7988-47ba-bc27-33bb04b86505",
   "metadata": {},
   "outputs": [],
   "source": []
  },
  {
   "cell_type": "markdown",
   "id": "5f1c8a68-8411-44ad-ab98-534d8b1353fe",
   "metadata": {},
   "source": [
    "### Filter the DataFrame with the `mask` of Trues"
   ]
  },
  {
   "cell_type": "code",
   "execution_count": null,
   "id": "4cb4b233-8a14-40e2-87e1-895fda463d0a",
   "metadata": {},
   "outputs": [],
   "source": []
  },
  {
   "cell_type": "markdown",
   "id": "17833b33-00da-47b9-aff6-0ec1d5ae1e0f",
   "metadata": {},
   "source": [
    "## Countries from Asia with Life Expentancy greater than 80 years old"
   ]
  },
  {
   "cell_type": "markdown",
   "id": "24856991-0d32-4fea-9c44-d4287775d3dc",
   "metadata": {},
   "source": [
    "### Compute the masks"
   ]
  },
  {
   "cell_type": "code",
   "execution_count": null,
   "id": "2ef2d41d-657a-45b0-81ab-cf7fc005467f",
   "metadata": {},
   "outputs": [],
   "source": []
  },
  {
   "cell_type": "markdown",
   "id": "da955f12-78e0-416e-b857-49137ad69648",
   "metadata": {},
   "source": [
    "### Filter the `DataFrame` based on multiple conditions"
   ]
  },
  {
   "cell_type": "markdown",
   "id": "ca2df5bc-d9dc-4197-9072-afe687bab938",
   "metadata": {},
   "source": [
    "#### Intersection"
   ]
  },
  {
   "cell_type": "code",
   "execution_count": null,
   "id": "930f68e9-d7cb-48c2-881b-284fc06299ef",
   "metadata": {},
   "outputs": [],
   "source": []
  },
  {
   "cell_type": "markdown",
   "id": "3269bf57-3d94-4fb7-9f93-2fcdf0782c4b",
   "metadata": {},
   "source": [
    "#### Union"
   ]
  },
  {
   "cell_type": "code",
   "execution_count": null,
   "id": "1b318e2c-1fcd-4d87-bf63-ffd4a9ce4290",
   "metadata": {},
   "outputs": [],
   "source": []
  },
  {
   "cell_type": "markdown",
   "id": "c6b0a79e-3ea2-449f-8862-426009276a76",
   "metadata": {},
   "source": [
    "## Get access to our Python Course for Data Visualization"
   ]
  },
  {
   "cell_type": "markdown",
   "id": "8dcaa24e-1447-4543-a043-c82be58d19b9",
   "metadata": {},
   "source": [
    "https://courses.resolvingpython.com/data-visualization"
   ]
  }
 ],
 "metadata": {
  "kernelspec": {
   "display_name": "Python 3 (ipykernel)",
   "language": "python",
   "name": "python3"
  },
  "language_info": {
   "codemirror_mode": {
    "name": "ipython",
    "version": 3
   },
   "file_extension": ".py",
   "mimetype": "text/x-python",
   "name": "python",
   "nbconvert_exporter": "python",
   "pygments_lexer": "ipython3",
   "version": "3.10.6"
  }
 },
 "nbformat": 4,
 "nbformat_minor": 5
}
