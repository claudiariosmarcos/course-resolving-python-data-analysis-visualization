{
 "cells": [
  {
   "attachments": {},
   "cell_type": "markdown",
   "id": "5c535ca3",
   "metadata": {},
   "source": [
    "# How Libraries Are Organized"
   ]
  },
  {
   "attachments": {},
   "cell_type": "markdown",
   "id": "29b0bede-faf3-4f3a-8a40-e4479ce6b689",
   "metadata": {},
   "source": [
    "Most problems, at the beginning, require you tu use **functions from a library**.\n",
    "\n",
    "1. Libraries contain functions for specific topics.\n",
    "2. Therefore, if you know the topic of your problem.\n",
    "3. You'll know in which library you could discover the function you need."
   ]
  },
  {
   "attachments": {},
   "cell_type": "markdown",
   "id": "11a797d6-f6a0-4b99-a937-0c831192fbe5",
   "metadata": {},
   "source": [
    "Let me show you examples from two libraries to understand why they contain functions for specific topics."
   ]
  },
  {
   "attachments": {},
   "cell_type": "markdown",
   "id": "bc1f5983-bda5-46f4-8f77-9ed8f0944536",
   "metadata": {},
   "source": [
    "## Libraries' Examples\n",
    "\n",
    "❌ Don't pay attention to the full code.\n",
    "\n",
    "✅ Just pay attention to the library and the resulting object."
   ]
  },
  {
   "attachments": {},
   "cell_type": "markdown",
   "id": "cfc1dd99-2587-4097-b551-138f53f38d40",
   "metadata": {},
   "source": [
    "### Seaborn (Graphs & Plots)\n",
    "\n",
    "Seaborn is a python library for data visualization that contains functions to plot figures. Therefore, you can see how we get different figures as we execute different functions from the `seaborn` library: \n",
    "\n",
    "> You identify the `functions()` everytime you see the parenthesis and the characters in lower case. For example, `scatterplot()`."
   ]
  },
  {
   "cell_type": "code",
   "execution_count": null,
   "id": "668c9610-2a33-4191-b864-d9c5c843be88",
   "metadata": {},
   "outputs": [],
   "source": []
  },
  {
   "attachments": {},
   "cell_type": "markdown",
   "id": "821027df-0850-47e9-b307-24eb5e463a4f",
   "metadata": {},
   "source": [
    "#### Scatter plot"
   ]
  },
  {
   "cell_type": "code",
   "execution_count": null,
   "id": "96ab0910",
   "metadata": {},
   "outputs": [],
   "source": [
    "[1,3,5,7,9]\n",
    "[2,-2,2,-2,2]"
   ]
  },
  {
   "cell_type": "code",
   "execution_count": null,
   "id": "003d118a-0cbf-46b4-acf2-e4e0806d111b",
   "metadata": {},
   "outputs": [],
   "source": []
  },
  {
   "attachments": {},
   "cell_type": "markdown",
   "id": "35b25fa3-18ac-49d3-a607-cc44e74c338c",
   "metadata": {},
   "source": [
    "#### Line plot"
   ]
  },
  {
   "cell_type": "code",
   "execution_count": null,
   "id": "63d28a61-5419-4662-bdca-7e88dbdd55d3",
   "metadata": {},
   "outputs": [],
   "source": []
  },
  {
   "attachments": {},
   "cell_type": "markdown",
   "id": "fd358da7-7489-4b55-9449-769e02d5fb03",
   "metadata": {},
   "source": [
    "#### Bar plot"
   ]
  },
  {
   "cell_type": "code",
   "execution_count": null,
   "id": "a7beacfd-eb7d-4b62-9dfa-54dde323e542",
   "metadata": {},
   "outputs": [],
   "source": []
  },
  {
   "attachments": {},
   "cell_type": "markdown",
   "id": "9c126adc-83d5-4106-9543-a497aefa261c",
   "metadata": {},
   "source": [
    "### Pandas (Data Tables)"
   ]
  },
  {
   "attachments": {},
   "cell_type": "markdown",
   "id": "112d3d64-48c5-494f-b900-a7b0f35e22a6",
   "metadata": {},
   "source": [
    "Pandas is a python library for data tables containing functions to load and analyze. In the following examples, you can see how pandas loads different types of file:"
   ]
  },
  {
   "cell_type": "code",
   "execution_count": null,
   "id": "3c897a16-303c-46ee-b505-fd2f105965ce",
   "metadata": {},
   "outputs": [],
   "source": []
  },
  {
   "attachments": {},
   "cell_type": "markdown",
   "id": "9c62e16b-d702-4c74-aa6d-46cca3606032",
   "metadata": {},
   "source": [
    "#### Excel"
   ]
  },
  {
   "attachments": {},
   "cell_type": "markdown",
   "id": "61778a18",
   "metadata": {},
   "source": [
    "Football World Cup Excel file."
   ]
  },
  {
   "cell_type": "code",
   "execution_count": null,
   "id": "08751d35",
   "metadata": {},
   "outputs": [],
   "source": []
  },
  {
   "attachments": {},
   "cell_type": "markdown",
   "id": "db500bbb-8acd-4c2c-abc4-3e4a015b7394",
   "metadata": {},
   "source": [
    "#### CSV"
   ]
  },
  {
   "attachments": {},
   "cell_type": "markdown",
   "id": "d4d954d8",
   "metadata": {},
   "source": [
    "Tennis Players file."
   ]
  },
  {
   "cell_type": "code",
   "execution_count": null,
   "metadata": {},
   "outputs": [],
   "source": []
  },
  {
   "attachments": {},
   "cell_type": "markdown",
   "id": "5083fe5a-bcc2-4a01-888d-0cb225f0981f",
   "metadata": {},
   "source": [
    "#### HTML"
   ]
  },
  {
   "attachments": {},
   "cell_type": "markdown",
   "id": "a8c8b911-87d7-42da-a638-99a1e5bccab6",
   "metadata": {},
   "source": [
    "The following case it's pretty cool because we get the data tables from websites, such as [the world population](https://en.wikipedia.org/wiki/List_of_countries_and_dependencies_by_population), directly with the function `read_html()`:"
   ]
  },
  {
   "cell_type": "code",
   "execution_count": null,
   "id": "f8b69ffd-9d30-4c95-a00a-23a8cb5aaf55",
   "metadata": {},
   "outputs": [],
   "source": []
  },
  {
   "attachments": {},
   "cell_type": "markdown",
   "id": "85c9ccbd-33dd-482c-b5a9-73f2d6ef9a66",
   "metadata": {},
   "source": [
    "## Restaurants Analogy (🇯🇵 🇮🇹 🇪🇸)\n",
    "\n",
    "Let's make the idea simpler, imagine:\n",
    "\n",
    "1. Shopping mall (Computer)\n",
    "2. Restaurant section (Python)\n",
    "3. Restaurants: japanese, italian, spanish,... (Python Libraries)\n",
    "4. Chefs (Functions) will cook the meal (the output)\n",
    "5. Ingredients (Parameters) the chef needs to cook your meal"
   ]
  },
  {
   "attachments": {},
   "cell_type": "markdown",
   "id": "6dd5bb9b-c774-48d7-8ce8-2ae1ab56f933",
   "metadata": {},
   "source": [
    "## Conclusion\n",
    "\n",
    "So, we can deduce that:\n",
    "\n",
    "1. If your topic is related to **chart & plots**, you'll try to find the function in `seaborn`.\n",
    "2. If your topic is related to **data tables**, you'll try to find the function in `pandas` library.\n",
    "3. And many [other topics and libraries](https://datons.craft.me/h3f5pSQSE7l6RW/b/E566C8E4-176F-4160-B530-AEF34FBAFFC4/Library).\n",
    "\n",
    "Now it's time to apply these ideas to practical exercises!"
   ]
  },
  {
   "attachments": {},
   "cell_type": "markdown",
   "id": "bd63742e-da87-4047-b97a-8e7847b6b533",
   "metadata": {},
   "source": [
    "# What's Next?\n",
    "\n",
    "- Practice with exercises on the next section."
   ]
  }
 ],
 "metadata": {
  "authors": [
   {
    "blog": "https//blog.resolvingpython.com",
    "name": "Jesús López",
    "twitter": "https://twitter.com/jsulopzs"
   }
  ],
  "kernelspec": {
   "display_name": "Python 3 (ipykernel)",
   "language": "python",
   "name": "python3"
  },
  "language_info": {
   "codemirror_mode": {
    "name": "ipython",
    "version": 3
   },
   "file_extension": ".py",
   "mimetype": "text/x-python",
   "name": "python",
   "nbconvert_exporter": "python",
   "pygments_lexer": "ipython3",
   "version": "3.9.10"
  },
  "title": "Machine Learning & Linear Regression",
  "toc-autonumbering": true,
  "vscode": {
   "interpreter": {
    "hash": "b0fa6594d8f4cbf19f97940f81e996739fb7646882a419484c72d19e05852a7e"
   }
  }
 },
 "nbformat": 4,
 "nbformat_minor": 5
}
